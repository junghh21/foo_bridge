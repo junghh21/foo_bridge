{
 "cells": [
  {
   "cell_type": "code",
   "execution_count": null,
   "id": "f7c8acad",
   "metadata": {},
   "outputs": [
    {
     "name": "stdout",
     "output_type": "stream",
     "text": [
      "{'start': 'True'}\n",
      "{'result': 'False'}\n",
      "{'result': 'False'}\n",
      "{'result': 'False'}\n",
      "{'result': 'False'}\n",
      "{'result': 'False'}\n",
      "{'result': 'False'}\n",
      "{'result': 'False'}\n",
      "{'result': 'False'}\n",
      "{'result': 'False'}\n",
      "{'result': 'True', 'bin': 'd4c6186ad5c3f2f004fa86f92d7cdd30e8c04b6b80353da3f01abbc7e1e30000', 'no': 'b7717e30', 'mask': '0000e3e1'}\n",
      "{'result': 'False'}\n",
      "{'result': 'False'}\n",
      "{'result': 'False'}\n",
      "{'result': 'False'}\n",
      "{'result': 'False'}\n",
      "{'result': 'False'}\n",
      "{'result': 'False'}\n",
      "{'result': 'False'}\n",
      "{'result': 'False'}\n",
      "{'result': 'False'}\n",
      "Task was cancelled!\n",
      "{'start': 'True'}\n"
     ]
    }
   ],
   "source": [
    "import ssl\n",
    "import requests\n",
    "import asyncio\n",
    "import aiohttp\n",
    "import json\n",
    "\n",
    "url = \"https://localhost:3001/params2\"\n",
    "data = {\n",
    "\t\"bin\": \"000000200f300dc8bf8c5b6a3e2488925723c46b6a21c28b431e0719a0b7a3f7692ef1eeb86cc6f4899cf72298bf8b067f3ff5f94a749b161925cc7d8650e7bf4d2287ca26899a68f7f10c1d00000000\",\n",
    "\t\"no\": \"b77176be\",\n",
    "\t\"mask\": \"0004fffb\"\n",
    "}  # Replace with your payload\n",
    "\n",
    "async def post1():\n",
    "\ttry:\n",
    "\t\tssl_context = ssl.create_default_context()\n",
    "\t\tssl_context.check_hostname = False\n",
    "\t\tssl_context.verify_mode = ssl.CERT_NONE\n",
    "\t\tasync with aiohttp.ClientSession() as session:\n",
    "\t\t\tasync with session.post(url, json=data, ssl=ssl_context) as response:\n",
    "\t\t\t\t\tasync for line in response.content:\n",
    "\t\t\t\t\t\tresult = json.loads(line.decode('utf-8').strip())\n",
    "\t\t\t\t\t\t#print(result)\n",
    "\t\t\t\t\t\tif \"result\" in result:\n",
    "\t\t\t\t\t\t\tif result[\"result\"] == 'True':\n",
    "\t\t\t\t\t\t\t\tprint(result)\n",
    "\texcept asyncio.CancelledError:\n",
    "\t\tprint(\"Task was cancelled!\")\n",
    "\t\t#raise  # Optional: re-raise to propagate\n",
    "\n",
    "for _ in range(5):\n",
    "\tawait asyncio.wait_for(post1(), 20)\n",
    "\t#await asyncio.sleep(1)"
   ]
  },
  {
   "cell_type": "code",
   "execution_count": null,
   "id": "fff76be2",
   "metadata": {},
   "outputs": [
    {
     "name": "stdout",
     "output_type": "stream",
     "text": [
      "1\n",
      "2\n",
      "3\n",
      "4\n"
     ]
    }
   ],
   "source": [
    "import asyncio\n",
    "\n",
    "async def task1():\n",
    "\ttry:\n",
    "\t\tawait asyncio.sleep(15)\n",
    "\texcept asyncio.CancelledError:\n",
    "\t\tpass\n",
    "\n",
    "loop = asyncio.get_running_loop()\n",
    "task1 = loop.create_task(task1())\n",
    "print(\"1\")\n",
    "await asyncio.sleep(5)\n",
    "print(\"2\")\n",
    "task1.cancel()\n",
    "print(\"3\")\n",
    "await task1\n",
    "print(\"4\")"
   ]
  }
 ],
 "metadata": {
  "kernelspec": {
   "display_name": "Python 3",
   "language": "python",
   "name": "python3"
  },
  "language_info": {
   "codemirror_mode": {
    "name": "ipython",
    "version": 3
   },
   "file_extension": ".py",
   "mimetype": "text/x-python",
   "name": "python",
   "nbconvert_exporter": "python",
   "pygments_lexer": "ipython3",
   "version": "3.10.12"
  }
 },
 "nbformat": 4,
 "nbformat_minor": 5
}
